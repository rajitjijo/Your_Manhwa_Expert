{
 "cells": [
  {
   "cell_type": "code",
   "execution_count": 2,
   "id": "d8d2c909-e9d5-4aa4-b061-27b4c1df09cc",
   "metadata": {},
   "outputs": [],
   "source": [
    "import json"
   ]
  },
  {
   "cell_type": "code",
   "execution_count": 3,
   "id": "fc36a6c4-9bb4-4545-838b-d2a7daec97db",
   "metadata": {},
   "outputs": [],
   "source": [
    "with open(r\"C:\\Users\\rajme\\Documents\\Your_Manhwa_Expert\\data\\charecter_data.json\") as f:\n",
    "    data = json.load(f)"
   ]
  },
  {
   "cell_type": "code",
   "execution_count": 7,
   "id": "4048adde-7134-4839-b210-2e37ca9c6818",
   "metadata": {},
   "outputs": [],
   "source": [
    "trivia = data[\"arthur_lewyin\"][\"trivia\"]"
   ]
  },
  {
   "cell_type": "code",
   "execution_count": 9,
   "id": "c3e3717e-e5cd-482b-bbfb-5868849c0372",
   "metadata": {},
   "outputs": [
    {
     "data": {
      "text/plain": [
       "14"
      ]
     },
     "execution_count": 9,
     "metadata": {},
     "output_type": "execute_result"
    }
   ],
   "source": [
    "len(trivia)"
   ]
  },
  {
   "cell_type": "code",
   "execution_count": 10,
   "id": "d6fa0608-9471-4724-b8b0-e48be5a16e96",
   "metadata": {},
   "outputs": [
    {
     "data": {
      "text/plain": [
       "str"
      ]
     },
     "execution_count": 10,
     "metadata": {},
     "output_type": "execute_result"
    }
   ],
   "source": [
    "type(trivia[0])"
   ]
  },
  {
   "cell_type": "code",
   "execution_count": 11,
   "id": "e5840ffc-03f5-489a-be5a-7979acfdcc39",
   "metadata": {},
   "outputs": [
    {
     "data": {
      "text/plain": [
       "\"Arthur's name was chosen after his great-grandfather, from the days when the Leywin house was far more powerful. Arthur is ranked 2nd in the comic's character popularity poll, receiving over 3500 votes. Arthur does not have a sweet tooth but he has a soft spot for cute things. Arthurs lifespan is much longer than a humans. Sylvie doesn't give Arthur her body; she gives up her body so that his can be rebuilt. Because her body contains so much more mana than his, the rebuilt body ends up being more powerful asuran-hybrid body. Arthur is a terrible cook who burns almost everything he cooks and mixes oil with water. Agrona has commented that he and Arthur think so much alike when Arthur was hiding for the fourth keystone. Arthur has been nicknamed 'princess' by Regis due to being mistaken as a woman when he first met Caera in the Relictombs. Ellie notes that Arthur makes a specific facial expression whenever he telepathically communicates with Sylvie or Regis. Arthur is the only person in existence to have an aether core. Arthur himself states that Agrona likely would've given up fighting to take Dicathen, but Arthur's aether core makes him a target that Agrona just can't pass up on. Arthur added a handguard to his aether sword design due to his hand getting cut from a sword maneuver by The Second Djinn Remnant, during their training on aether weapons. Arthur would later find Dawn's Ballad, shattered. He decides not to fix it with Aroa's Requiem since he doesn't need it anymore and doesn't want to look back to the past. Arthur has had a natural instinct for fighting, as shown by his first life as king Grey where he had reflexes that made him an outstanding opponent.\""
      ]
     },
     "execution_count": 11,
     "metadata": {},
     "output_type": "execute_result"
    }
   ],
   "source": [
    "\" \".join(trivia)"
   ]
  },
  {
   "cell_type": "code",
   "execution_count": null,
   "id": "eae8153e-46e4-4b39-bd81-548c01de3785",
   "metadata": {},
   "outputs": [],
   "source": []
  }
 ],
 "metadata": {
  "kernelspec": {
   "display_name": "Python 3 (ipykernel)",
   "language": "python",
   "name": "python3"
  },
  "language_info": {
   "codemirror_mode": {
    "name": "ipython",
    "version": 3
   },
   "file_extension": ".py",
   "mimetype": "text/x-python",
   "name": "python",
   "nbconvert_exporter": "python",
   "pygments_lexer": "ipython3",
   "version": "3.11.13"
  }
 },
 "nbformat": 4,
 "nbformat_minor": 5
}
