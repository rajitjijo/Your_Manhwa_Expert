{
 "cells": [
  {
   "cell_type": "code",
   "execution_count": 2,
   "id": "0b3029ce-1a88-4250-b7d0-77be89663489",
   "metadata": {},
   "outputs": [],
   "source": [
    "import requests\n",
    "from bs4 import BeautifulSoup"
   ]
  },
  {
   "cell_type": "code",
   "execution_count": 3,
   "id": "0041c5ef-0ae5-40d4-bb93-1a10324b9ac0",
   "metadata": {},
   "outputs": [],
   "source": [
    "headers = {\n",
    " \"User-Agent\": \"Mozilla/5.0 (Windows NT 10.0; Win64; x64) AppleWebKit/537.36 (KHTML, like Gecko) Chrome/117.0.0.0 Safari/537.36\"\n",
    "} "
   ]
  },
  {
   "cell_type": "code",
   "execution_count": 4,
   "id": "0bf8bf5c-d265-4caa-87cc-0a33626d4f0d",
   "metadata": {},
   "outputs": [
    {
     "ename": "NameError",
     "evalue": "name 'website' is not defined",
     "output_type": "error",
     "traceback": [
      "\u001b[31m---------------------------------------------------------------------------\u001b[39m",
      "\u001b[31mNameError\u001b[39m                                 Traceback (most recent call last)",
      "\u001b[36mCell\u001b[39m\u001b[36m \u001b[39m\u001b[32mIn[4]\u001b[39m\u001b[32m, line 1\u001b[39m\n\u001b[32m----> \u001b[39m\u001b[32m1\u001b[39m \u001b[38;5;28mself\u001b[39m.url = \u001b[43mwebsite\u001b[49m\n\u001b[32m      2\u001b[39m response = requests.get(url=website, headers=headers)\n\u001b[32m      4\u001b[39m \u001b[38;5;28mself\u001b[39m.body = response.content\n",
      "\u001b[31mNameError\u001b[39m: name 'website' is not defined"
     ]
    }
   ],
   "source": [
    "self.url = website\n",
    "response = requests.get(url=website, headers=headers)\n",
    "\n",
    "self.body = response.content\n",
    "\n",
    "soup = BeautifulSoup(self.body, 'html.parser')\n",
    "\n",
    "self.title = soup.title.string if soup.title else \"Title Not Found\"\n",
    "\n",
    "if soup.body:\n",
    "\n",
    "    for irrelevant in soup.body([\"scrit\", \"stle\", \"img\", \"input\", \"nav\", \"figure\"]):\n",
    "\n",
    "        irrelevant.decompose()\n",
    "\n",
    "    self.text = soup.body.get_text(separator=\"\\n\", strip=True)\n",
    "\n",
    "else:\n",
    "\n",
    "    self.text = \"\"\n",
    "\n",
    "links = [link.get(\"href\") for link in soup.find_all(\"a\")]\n",
    "self.links = [link for link in links if link]"
   ]
  },
  {
   "cell_type": "code",
   "execution_count": null,
   "id": "c9ab7d30-ef39-41d6-938b-0338de9a192e",
   "metadata": {},
   "outputs": [],
   "source": []
  }
 ],
 "metadata": {
  "kernelspec": {
   "display_name": "Python 3 (ipykernel)",
   "language": "python",
   "name": "python3"
  },
  "language_info": {
   "codemirror_mode": {
    "name": "ipython",
    "version": 3
   },
   "file_extension": ".py",
   "mimetype": "text/x-python",
   "name": "python",
   "nbconvert_exporter": "python",
   "pygments_lexer": "ipython3",
   "version": "3.11.13"
  }
 },
 "nbformat": 4,
 "nbformat_minor": 5
}
